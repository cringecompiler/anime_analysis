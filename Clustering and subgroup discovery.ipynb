{
 "cells": [
  {
   "cell_type": "code",
   "execution_count": 15,
   "id": "ac809273-965a-43c2-ab1b-10947d53e204",
   "metadata": {},
   "outputs": [],
   "source": [
    "import pandas as pd\n",
    "import numpy as np\n",
    "from scipy import stats\n",
    "import sklearn \n",
    "import statsmodels.formula.api as smf\n",
    "import statsmodels.api as sm\n",
    "import seaborn as sns\n",
    "import matplotlib.pyplot as plt\n",
    "pd.options.mode.chained_assignment = None\n",
    "from sklearn.preprocessing import StandardScaler\n",
    "from sklearn.cluster import KMeans\n",
    "from sklearn import metrics\n",
    "import pysubgroup as ps\n",
    "import warnings\n",
    "warnings.filterwarnings(\"ignore\")"
   ]
  },
  {
   "cell_type": "code",
   "execution_count": 16,
   "id": "a7073f60-40a3-4aea-bbbc-515730714a40",
   "metadata": {},
   "outputs": [
    {
     "name": "stdout",
     "output_type": "stream",
     "text": [
      "<class 'pandas.core.frame.DataFrame'>\n",
      "RangeIndex: 14474 entries, 0 to 14473\n",
      "Data columns (total 31 columns):\n",
      " #   Column          Non-Null Count  Dtype  \n",
      "---  ------          --------------  -----  \n",
      " 0   anime_id        14474 non-null  int64  \n",
      " 1   title           14474 non-null  object \n",
      " 2   title_english   5723 non-null   object \n",
      " 3   title_japanese  14440 non-null  object \n",
      " 4   title_synonyms  8936 non-null   object \n",
      " 5   image_url       14378 non-null  object \n",
      " 6   type            14474 non-null  object \n",
      " 7   source          14474 non-null  object \n",
      " 8   episodes        14474 non-null  int64  \n",
      " 9   status          14474 non-null  object \n",
      " 10  airing          14474 non-null  bool   \n",
      " 11  aired_string    14474 non-null  object \n",
      " 12  aired           14474 non-null  object \n",
      " 13  duration        14474 non-null  object \n",
      " 14  rating          13932 non-null  object \n",
      " 15  score           14474 non-null  float64\n",
      " 16  scored_by       14474 non-null  int64  \n",
      " 17  rank            12901 non-null  float64\n",
      " 18  popularity      14474 non-null  int64  \n",
      " 19  members         14474 non-null  int64  \n",
      " 20  favorites       14474 non-null  int64  \n",
      " 21  background      1057 non-null   object \n",
      " 22  premiered       4096 non-null   object \n",
      " 23  broadcast       4271 non-null   object \n",
      " 24  related         14474 non-null  object \n",
      " 25  producer        8288 non-null   object \n",
      " 26  licensor        3373 non-null   object \n",
      " 27  studio          8544 non-null   object \n",
      " 28  genre           14410 non-null  object \n",
      " 29  opening_theme   14474 non-null  object \n",
      " 30  ending_theme    14474 non-null  object \n",
      "dtypes: bool(1), float64(2), int64(6), object(22)\n",
      "memory usage: 3.3+ MB\n"
     ]
    }
   ],
   "source": [
    "df_anime = pd.read_csv('anime_filtered.csv')\n",
    "df_anime.info()"
   ]
  },
  {
   "cell_type": "markdown",
   "id": "7ee676ca-5d76-48ae-af09-60f62e11ffff",
   "metadata": {
    "tags": []
   },
   "source": [
    "### Formulate a task for dividing into groups using clustering methods"
   ]
  },
  {
   "cell_type": "code",
   "execution_count": 17,
   "id": "c700afd5-e901-45e4-a434-6730f44d0855",
   "metadata": {},
   "outputs": [],
   "source": [
    "df = df_anime[df_anime.score > 0] "
   ]
  },
  {
   "cell_type": "markdown",
   "id": "0629bdad-aacc-4c45-9d8e-eda7ced84720",
   "metadata": {},
   "source": [
    "For clustering, let's try to identify groups of anime that are similar in their parameters and metrics that users have set for them. This will allow us to better understand how anime is evaluated depending on the characteristics, as well as better understand what the main \"types\" of anime exist, which can help creators when creating titles.\n",
    "\n",
    "For the initial characteristics, let's take numerical parameters, as well as the source, genre, type (full-length /TV series /...)."
   ]
  },
  {
   "cell_type": "markdown",
   "id": "834d2271-80eb-482e-9e6b-b36e6d34234a",
   "metadata": {
    "tags": []
   },
   "source": [
    "### Which clustering algorithm did you use? Draw conclusions. How will they help in solving the main task?"
   ]
  },
  {
   "cell_type": "markdown",
   "id": "27285c24-b9be-4d70-8098-d4f7bd6f3617",
   "metadata": {},
   "source": [
    "I decided to use the k-means method and look at hierarchical clustering to identify the most likely subgroups."
   ]
  },
  {
   "cell_type": "code",
   "execution_count": 18,
   "id": "e8301c74-d5d9-4785-9edd-0ccc698bc03d",
   "metadata": {},
   "outputs": [],
   "source": [
    "df_cleaned = df[['score', 'type', 'source', 'rating', 'episodes', 'scored_by', 'members', 'favorites', 'genre']]"
   ]
  },
  {
   "cell_type": "markdown",
   "id": "21f3c8ce-5172-42e0-a3a3-850e1d364b9b",
   "metadata": {},
   "source": [
    "Converting genres to dummy variables:"
   ]
  },
  {
   "cell_type": "code",
   "execution_count": 19,
   "id": "9085c9b6-f610-427e-b1c6-bcec611321c9",
   "metadata": {},
   "outputs": [],
   "source": [
    "df_cleaned['genres'] = df_cleaned.genre.str.split(pat=\", \")\n",
    "genres = df_cleaned['genres']\n",
    "genres_dummy = pd.get_dummies(genres.explode()).groupby(level=0).sum()"
   ]
  },
  {
   "cell_type": "markdown",
   "id": "b0400441-a8c5-4f58-8d7d-8f1fc30a24ad",
   "metadata": {},
   "source": [
    "Converting other variables:"
   ]
  },
  {
   "cell_type": "code",
   "execution_count": 20,
   "id": "19deacec-18d2-4224-8d43-d13cc33feaed",
   "metadata": {},
   "outputs": [],
   "source": [
    "df_3_dummies = pd.get_dummies(df_cleaned, columns = ['type', 'source', 'rating'], dtype='int64')"
   ]
  },
  {
   "cell_type": "code",
   "execution_count": 21,
   "id": "27d06df8-89b2-44e5-99d7-bb979140af57",
   "metadata": {},
   "outputs": [],
   "source": [
    "df_type = df_3_dummies.filter(like='type')\n",
    "df_rating = df_3_dummies.filter(like='rating')\n",
    "df_source = df_3_dummies.filter(like='source')"
   ]
  },
  {
   "cell_type": "markdown",
   "id": "562b3c83-1b35-460e-bc51-6505d3cda47f",
   "metadata": {},
   "source": [
    "Let's combine everything into one dataframe:"
   ]
  },
  {
   "cell_type": "code",
   "execution_count": 22,
   "id": "1620e2ea-488d-48ea-990e-19312edca3ad",
   "metadata": {},
   "outputs": [],
   "source": [
    "df_metrics = df_cleaned[['score', 'episodes', 'scored_by', 'members', 'favorites']]"
   ]
  },
  {
   "cell_type": "code",
   "execution_count": 23,
   "id": "bb0b3a81-b63d-4b8b-860c-cf58be51a956",
   "metadata": {},
   "outputs": [
    {
     "data": {
      "text/html": [
       "<div>\n",
       "<style scoped>\n",
       "    .dataframe tbody tr th:only-of-type {\n",
       "        vertical-align: middle;\n",
       "    }\n",
       "\n",
       "    .dataframe tbody tr th {\n",
       "        vertical-align: top;\n",
       "    }\n",
       "\n",
       "    .dataframe thead th {\n",
       "        text-align: right;\n",
       "    }\n",
       "</style>\n",
       "<table border=\"1\" class=\"dataframe\">\n",
       "  <thead>\n",
       "    <tr style=\"text-align: right;\">\n",
       "      <th></th>\n",
       "      <th>score</th>\n",
       "      <th>episodes</th>\n",
       "      <th>scored_by</th>\n",
       "      <th>members</th>\n",
       "      <th>favorites</th>\n",
       "      <th>Action</th>\n",
       "      <th>Adventure</th>\n",
       "      <th>Cars</th>\n",
       "      <th>Comedy</th>\n",
       "      <th>Dementia</th>\n",
       "      <th>...</th>\n",
       "      <th>source_Manga</th>\n",
       "      <th>source_Music</th>\n",
       "      <th>source_Novel</th>\n",
       "      <th>source_Original</th>\n",
       "      <th>source_Other</th>\n",
       "      <th>source_Picture book</th>\n",
       "      <th>source_Radio</th>\n",
       "      <th>source_Unknown</th>\n",
       "      <th>source_Visual novel</th>\n",
       "      <th>source_Web manga</th>\n",
       "    </tr>\n",
       "  </thead>\n",
       "  <tbody>\n",
       "    <tr>\n",
       "      <th>0</th>\n",
       "      <td>7.63</td>\n",
       "      <td>12</td>\n",
       "      <td>139250</td>\n",
       "      <td>283882</td>\n",
       "      <td>2809</td>\n",
       "      <td>0</td>\n",
       "      <td>0</td>\n",
       "      <td>0</td>\n",
       "      <td>1</td>\n",
       "      <td>0</td>\n",
       "      <td>...</td>\n",
       "      <td>1</td>\n",
       "      <td>0</td>\n",
       "      <td>0</td>\n",
       "      <td>0</td>\n",
       "      <td>0</td>\n",
       "      <td>0</td>\n",
       "      <td>0</td>\n",
       "      <td>0</td>\n",
       "      <td>0</td>\n",
       "      <td>0</td>\n",
       "    </tr>\n",
       "    <tr>\n",
       "      <th>1</th>\n",
       "      <td>7.89</td>\n",
       "      <td>26</td>\n",
       "      <td>91206</td>\n",
       "      <td>204003</td>\n",
       "      <td>2579</td>\n",
       "      <td>0</td>\n",
       "      <td>0</td>\n",
       "      <td>0</td>\n",
       "      <td>1</td>\n",
       "      <td>0</td>\n",
       "      <td>...</td>\n",
       "      <td>1</td>\n",
       "      <td>0</td>\n",
       "      <td>0</td>\n",
       "      <td>0</td>\n",
       "      <td>0</td>\n",
       "      <td>0</td>\n",
       "      <td>0</td>\n",
       "      <td>0</td>\n",
       "      <td>0</td>\n",
       "      <td>0</td>\n",
       "    </tr>\n",
       "    <tr>\n",
       "      <th>2</th>\n",
       "      <td>7.55</td>\n",
       "      <td>51</td>\n",
       "      <td>37129</td>\n",
       "      <td>70127</td>\n",
       "      <td>802</td>\n",
       "      <td>0</td>\n",
       "      <td>0</td>\n",
       "      <td>0</td>\n",
       "      <td>1</td>\n",
       "      <td>0</td>\n",
       "      <td>...</td>\n",
       "      <td>1</td>\n",
       "      <td>0</td>\n",
       "      <td>0</td>\n",
       "      <td>0</td>\n",
       "      <td>0</td>\n",
       "      <td>0</td>\n",
       "      <td>0</td>\n",
       "      <td>0</td>\n",
       "      <td>0</td>\n",
       "      <td>0</td>\n",
       "    </tr>\n",
       "    <tr>\n",
       "      <th>3</th>\n",
       "      <td>8.21</td>\n",
       "      <td>38</td>\n",
       "      <td>36501</td>\n",
       "      <td>93312</td>\n",
       "      <td>3344</td>\n",
       "      <td>0</td>\n",
       "      <td>0</td>\n",
       "      <td>0</td>\n",
       "      <td>1</td>\n",
       "      <td>0</td>\n",
       "      <td>...</td>\n",
       "      <td>0</td>\n",
       "      <td>0</td>\n",
       "      <td>0</td>\n",
       "      <td>1</td>\n",
       "      <td>0</td>\n",
       "      <td>0</td>\n",
       "      <td>0</td>\n",
       "      <td>0</td>\n",
       "      <td>0</td>\n",
       "      <td>0</td>\n",
       "    </tr>\n",
       "    <tr>\n",
       "      <th>4</th>\n",
       "      <td>8.67</td>\n",
       "      <td>25</td>\n",
       "      <td>107767</td>\n",
       "      <td>182765</td>\n",
       "      <td>2082</td>\n",
       "      <td>0</td>\n",
       "      <td>0</td>\n",
       "      <td>0</td>\n",
       "      <td>1</td>\n",
       "      <td>0</td>\n",
       "      <td>...</td>\n",
       "      <td>1</td>\n",
       "      <td>0</td>\n",
       "      <td>0</td>\n",
       "      <td>0</td>\n",
       "      <td>0</td>\n",
       "      <td>0</td>\n",
       "      <td>0</td>\n",
       "      <td>0</td>\n",
       "      <td>0</td>\n",
       "      <td>0</td>\n",
       "    </tr>\n",
       "  </tbody>\n",
       "</table>\n",
       "<p>5 rows × 76 columns</p>\n",
       "</div>"
      ],
      "text/plain": [
       "   score  episodes  scored_by  members  favorites  Action  Adventure  Cars  \\\n",
       "0   7.63        12     139250   283882       2809       0          0     0   \n",
       "1   7.89        26      91206   204003       2579       0          0     0   \n",
       "2   7.55        51      37129    70127        802       0          0     0   \n",
       "3   8.21        38      36501    93312       3344       0          0     0   \n",
       "4   8.67        25     107767   182765       2082       0          0     0   \n",
       "\n",
       "   Comedy  Dementia  ...  source_Manga  source_Music  source_Novel  \\\n",
       "0       1         0  ...             1             0             0   \n",
       "1       1         0  ...             1             0             0   \n",
       "2       1         0  ...             1             0             0   \n",
       "3       1         0  ...             0             0             0   \n",
       "4       1         0  ...             1             0             0   \n",
       "\n",
       "   source_Original  source_Other  source_Picture book  source_Radio  \\\n",
       "0                0             0                    0             0   \n",
       "1                0             0                    0             0   \n",
       "2                0             0                    0             0   \n",
       "3                1             0                    0             0   \n",
       "4                0             0                    0             0   \n",
       "\n",
       "   source_Unknown  source_Visual novel  source_Web manga  \n",
       "0               0                    0                 0  \n",
       "1               0                    0                 0  \n",
       "2               0                    0                 0  \n",
       "3               0                    0                 0  \n",
       "4               0                    0                 0  \n",
       "\n",
       "[5 rows x 76 columns]"
      ]
     },
     "execution_count": 23,
     "metadata": {},
     "output_type": "execute_result"
    }
   ],
   "source": [
    "df_result = pd.concat([df_metrics, genres_dummy, df_type, df_rating, df_source], axis=1)\n",
    "df_result.head(5)"
   ]
  },
  {
   "cell_type": "markdown",
   "id": "f02c3d07-9026-48a8-8877-d3638f92d8ff",
   "metadata": {},
   "source": [
    "Standartize the variables:"
   ]
  },
  {
   "cell_type": "code",
   "execution_count": 24,
   "id": "ec2ca10a-5058-4d85-b6f1-cb8c3b5f7516",
   "metadata": {},
   "outputs": [
    {
     "data": {
      "text/plain": [
       "array([[ 1.20368403,  0.00983668,  2.92425098,  3.43658215,  0.94048656,\n",
       "        -0.5318212 , -0.4661238 , -0.08097186,  1.32186437, -0.14478551,\n",
       "        -0.16310335, -0.43265465, -0.22420459, -0.4771165 , -0.14143668,\n",
       "        -0.1579991 , -0.30623759, -0.26686568, -0.17050231, -0.07547439,\n",
       "        -0.40473467, -0.26025969, -0.14781484, -0.27380222, -0.1853278 ,\n",
       "        -0.32161701, -0.20768116, -0.19725964, -0.12374015, -0.14143668,\n",
       "         2.80072895, -0.11037611, -0.32575509, -0.43034593, -0.2231576 ,\n",
       "        -0.21607271, -0.06693637,  2.67483353, -0.07257344, -0.34277321,\n",
       "        -0.17570902, -0.21227587, -0.19354957,  3.32743067, -0.08185309,\n",
       "        -0.09256879, -0.05055063, -0.05395657, -0.46803577, -0.25289287,\n",
       "        -0.29276252, -0.5820376 , -0.39795673,  1.55905529, -0.68591845,\n",
       "        -0.31405571,  1.36604225, -0.27065158, -0.25714429, -0.30637587,\n",
       "        -0.12403473, -0.08141364, -0.06195122, -0.02380615, -0.20544535,\n",
       "        -0.19764672,  1.91548712, -0.15005007, -0.15634358, -0.5492096 ,\n",
       "        -0.16939978, -0.08141364, -0.02525113, -0.65022022, -0.25730074,\n",
       "        -0.09860334]])"
      ]
     },
     "execution_count": 24,
     "metadata": {},
     "output_type": "execute_result"
    }
   ],
   "source": [
    "scaler = StandardScaler()\n",
    "scaled_df = scaler.fit_transform(df_result)\n",
    "scaled_df[:1]"
   ]
  },
  {
   "cell_type": "markdown",
   "id": "1719d905-43c4-43af-a528-db53bf124829",
   "metadata": {},
   "source": [
    "Look at the silhouette metric to find the optimal number of clusters:"
   ]
  },
  {
   "cell_type": "code",
   "execution_count": 25,
   "id": "0a54580a-5c63-4734-9598-8b8bd1801419",
   "metadata": {},
   "outputs": [],
   "source": [
    "sil = []\n",
    "for k in range(2, 12):\n",
    "    kmeans = KMeans(n_clusters=k, random_state=1).fit(scaled_df)\n",
    "    sil.append(metrics.silhouette_score(scaled_df, kmeans.labels_))"
   ]
  },
  {
   "cell_type": "code",
   "execution_count": 26,
   "id": "48429a98-bb6e-4713-a4eb-ae88101ee7ad",
   "metadata": {},
   "outputs": [
    {
     "data": {
      "image/png": "[encoded data removed]",
      "text/plain": [
       "<Figure size 432x288 with 1 Axes>"
      ]
     },
     "metadata": {
      "needs_background": "light"
     },
     "output_type": "display_data"
    }
   ],
   "source": [
    "plt.plot(range(2, 12), sil, marker='s');\n",
    "plt.xlabel('Number of clusters')\n",
    "plt.ylabel('silhouette');"
   ]
  },
  {
   "cell_type": "markdown",
   "id": "09cebe8e-9daf-461e-8809-4eb530631022",
   "metadata": {},
   "source": [
    "The graph shows that a sharp increase in silhouette falls from 3 to 4 clusters, as well as from 7 to 8. In any case, the metric itself is quite low, which suggests that it is quite difficult to identify any isolated subgroups of anime. Let's look at the descriptive statistics for 4 clusters:"
   ]
  },
  {
   "cell_type": "code",
   "execution_count": 29,
   "id": "8699e8b1-4e66-425e-8829-f8d27b10cc4d",
   "metadata": {},
   "outputs": [
    {
     "data": {
      "text/html": [
       "<style>#sk-container-id-2 {color: black;}#sk-container-id-2 pre{padding: 0;}#sk-container-id-2 div.sk-toggleable {background-color: white;}#sk-container-id-2 label.sk-toggleable__label {cursor: pointer;display: block;width: 100%;margin-bottom: 0;padding: 0.3em;box-sizing: border-box;text-align: center;}#sk-container-id-2 label.sk-toggleable__label-arrow:before {content: \"▸\";float: left;margin-right: 0.25em;color: #696969;}#sk-container-id-2 label.sk-toggleable__label-arrow:hover:before {color: black;}#sk-container-id-2 div.sk-estimator:hover label.sk-toggleable__label-arrow:before {color: black;}#sk-container-id-2 div.sk-toggleable__content {max-height: 0;max-width: 0;overflow: hidden;text-align: left;background-color: #f0f8ff;}#sk-container-id-2 div.sk-toggleable__content pre {margin: 0.2em;color: black;border-radius: 0.25em;background-color: #f0f8ff;}#sk-container-id-2 input.sk-toggleable__control:checked~div.sk-toggleable__content {max-height: 200px;max-width: 100%;overflow: auto;}#sk-container-id-2 input.sk-toggleable__control:checked~label.sk-toggleable__label-arrow:before {content: \"▾\";}#sk-container-id-2 div.sk-estimator input.sk-toggleable__control:checked~label.sk-toggleable__label {background-color: #d4ebff;}#sk-container-id-2 div.sk-label input.sk-toggleable__control:checked~label.sk-toggleable__label {background-color: #d4ebff;}#sk-container-id-2 input.sk-hidden--visually {border: 0;clip: rect(1px 1px 1px 1px);clip: rect(1px, 1px, 1px, 1px);height: 1px;margin: -1px;overflow: hidden;padding: 0;position: absolute;width: 1px;}#sk-container-id-2 div.sk-estimator {font-family: monospace;background-color: #f0f8ff;border: 1px dotted black;border-radius: 0.25em;box-sizing: border-box;margin-bottom: 0.5em;}#sk-container-id-2 div.sk-estimator:hover {background-color: #d4ebff;}#sk-container-id-2 div.sk-parallel-item::after {content: \"\";width: 100%;border-bottom: 1px solid gray;flex-grow: 1;}#sk-container-id-2 div.sk-label:hover label.sk-toggleable__label {background-color: #d4ebff;}#sk-container-id-2 div.sk-serial::before {content: \"\";position: absolute;border-left: 1px solid gray;box-sizing: border-box;top: 0;bottom: 0;left: 50%;z-index: 0;}#sk-container-id-2 div.sk-serial {display: flex;flex-direction: column;align-items: center;background-color: white;padding-right: 0.2em;padding-left: 0.2em;position: relative;}#sk-container-id-2 div.sk-item {position: relative;z-index: 1;}#sk-container-id-2 div.sk-parallel {display: flex;align-items: stretch;justify-content: center;background-color: white;position: relative;}#sk-container-id-2 div.sk-item::before, #sk-container-id-2 div.sk-parallel-item::before {content: \"\";position: absolute;border-left: 1px solid gray;box-sizing: border-box;top: 0;bottom: 0;left: 50%;z-index: -1;}#sk-container-id-2 div.sk-parallel-item {display: flex;flex-direction: column;z-index: 1;position: relative;background-color: white;}#sk-container-id-2 div.sk-parallel-item:first-child::after {align-self: flex-end;width: 50%;}#sk-container-id-2 div.sk-parallel-item:last-child::after {align-self: flex-start;width: 50%;}#sk-container-id-2 div.sk-parallel-item:only-child::after {width: 0;}#sk-container-id-2 div.sk-dashed-wrapped {border: 1px dashed gray;margin: 0 0.4em 0.5em 0.4em;box-sizing: border-box;padding-bottom: 0.4em;background-color: white;}#sk-container-id-2 div.sk-label label {font-family: monospace;font-weight: bold;display: inline-block;line-height: 1.2em;}#sk-container-id-2 div.sk-label-container {text-align: center;}#sk-container-id-2 div.sk-container {/* jupyter's `normalize.less` sets `[hidden] { display: none; }` but bootstrap.min.css set `[hidden] { display: none !important; }` so we also need the `!important` here to be able to override the default hidden behavior on the sphinx rendered scikit-learn.org. See: https://github.com/scikit-learn/scikit-learn/issues/21755 */display: inline-block !important;position: relative;}#sk-container-id-2 div.sk-text-repr-fallback {display: none;}</style><div id=\"sk-container-id-2\" class=\"sk-top-container\"><div class=\"sk-text-repr-fallback\"><pre>KMeans(n_clusters=4)</pre><b>In a Jupyter environment, please rerun this cell to show the HTML representation or trust the notebook. <br />On GitHub, the HTML representation is unable to render, please try loading this page with nbviewer.org.</b></div><div class=\"sk-container\" hidden><div class=\"sk-item\"><div class=\"sk-estimator sk-toggleable\"><input class=\"sk-toggleable__control sk-hidden--visually\" id=\"sk-estimator-id-2\" type=\"checkbox\" checked><label for=\"sk-estimator-id-2\" class=\"sk-toggleable__label sk-toggleable__label-arrow\">KMeans</label><div class=\"sk-toggleable__content\"><pre>KMeans(n_clusters=4)</pre></div></div></div></div></div>"
      ],
      "text/plain": [
       "KMeans(n_clusters=4)"
      ]
     },
     "execution_count": 29,
     "metadata": {},
     "output_type": "execute_result"
    }
   ],
   "source": [
    "kmodel_final = KMeans(n_clusters=4)\n",
    "kmodel_final.fit(scaled_df)"
   ]
  },
  {
   "cell_type": "code",
   "execution_count": 30,
   "id": "1519b92b-7b67-4e5b-9037-e9f1153cb34f",
   "metadata": {},
   "outputs": [
    {
     "data": {
      "text/html": [
       "<div>\n",
       "<style scoped>\n",
       "    .dataframe tbody tr th:only-of-type {\n",
       "        vertical-align: middle;\n",
       "    }\n",
       "\n",
       "    .dataframe tbody tr th {\n",
       "        vertical-align: top;\n",
       "    }\n",
       "\n",
       "    .dataframe thead th {\n",
       "        text-align: right;\n",
       "    }\n",
       "</style>\n",
       "<table border=\"1\" class=\"dataframe\">\n",
       "  <thead>\n",
       "    <tr style=\"text-align: right;\">\n",
       "      <th>cluster</th>\n",
       "      <th>0</th>\n",
       "      <th>1</th>\n",
       "      <th>2</th>\n",
       "      <th>3</th>\n",
       "    </tr>\n",
       "  </thead>\n",
       "  <tbody>\n",
       "    <tr>\n",
       "      <th>score</th>\n",
       "      <td>6.172483</td>\n",
       "      <td>5.786451</td>\n",
       "      <td>6.937001</td>\n",
       "      <td>5.184089</td>\n",
       "    </tr>\n",
       "    <tr>\n",
       "      <th>episodes</th>\n",
       "      <td>2.064356</td>\n",
       "      <td>14.239659</td>\n",
       "      <td>12.357188</td>\n",
       "      <td>1.250000</td>\n",
       "    </tr>\n",
       "    <tr>\n",
       "      <th>scored_by</th>\n",
       "      <td>1453.287129</td>\n",
       "      <td>849.994786</td>\n",
       "      <td>25182.167883</td>\n",
       "      <td>663.359813</td>\n",
       "    </tr>\n",
       "    <tr>\n",
       "      <th>members</th>\n",
       "      <td>3563.870462</td>\n",
       "      <td>1908.030414</td>\n",
       "      <td>49763.371628</td>\n",
       "      <td>1230.526869</td>\n",
       "    </tr>\n",
       "    <tr>\n",
       "      <th>favorites</th>\n",
       "      <td>23.423267</td>\n",
       "      <td>5.919360</td>\n",
       "      <td>704.273881</td>\n",
       "      <td>5.039720</td>\n",
       "    </tr>\n",
       "    <tr>\n",
       "      <th>...</th>\n",
       "      <td>...</td>\n",
       "      <td>...</td>\n",
       "      <td>...</td>\n",
       "      <td>...</td>\n",
       "    </tr>\n",
       "    <tr>\n",
       "      <th>source_Picture book</th>\n",
       "      <td>0.000000</td>\n",
       "      <td>0.015989</td>\n",
       "      <td>0.000000</td>\n",
       "      <td>0.001168</td>\n",
       "    </tr>\n",
       "    <tr>\n",
       "      <th>source_Radio</th>\n",
       "      <td>0.000000</td>\n",
       "      <td>0.001390</td>\n",
       "      <td>0.000159</td>\n",
       "      <td>0.000000</td>\n",
       "    </tr>\n",
       "    <tr>\n",
       "      <th>source_Unknown</th>\n",
       "      <td>0.226073</td>\n",
       "      <td>0.476017</td>\n",
       "      <td>0.155506</td>\n",
       "      <td>0.238318</td>\n",
       "    </tr>\n",
       "    <tr>\n",
       "      <th>source_Visual novel</th>\n",
       "      <td>0.465347</td>\n",
       "      <td>0.002259</td>\n",
       "      <td>0.047128</td>\n",
       "      <td>0.003505</td>\n",
       "    </tr>\n",
       "    <tr>\n",
       "      <th>source_Web manga</th>\n",
       "      <td>0.000000</td>\n",
       "      <td>0.005040</td>\n",
       "      <td>0.016820</td>\n",
       "      <td>0.001168</td>\n",
       "    </tr>\n",
       "  </tbody>\n",
       "</table>\n",
       "<p>76 rows × 4 columns</p>\n",
       "</div>"
      ],
      "text/plain": [
       "cluster                        0            1             2            3\n",
       "score                   6.172483     5.786451      6.937001     5.184089\n",
       "episodes                2.064356    14.239659     12.357188     1.250000\n",
       "scored_by            1453.287129   849.994786  25182.167883   663.359813\n",
       "members              3563.870462  1908.030414  49763.371628  1230.526869\n",
       "favorites              23.423267     5.919360    704.273881     5.039720\n",
       "...                          ...          ...           ...          ...\n",
       "source_Picture book     0.000000     0.015989      0.000000     0.001168\n",
       "source_Radio            0.000000     0.001390      0.000159     0.000000\n",
       "source_Unknown          0.226073     0.476017      0.155506     0.238318\n",
       "source_Visual novel     0.465347     0.002259      0.047128     0.003505\n",
       "source_Web manga        0.000000     0.005040      0.016820     0.001168\n",
       "\n",
       "[76 rows x 4 columns]"
      ]
     },
     "execution_count": 30,
     "metadata": {},
     "output_type": "execute_result"
    }
   ],
   "source": [
    "res = df_result.copy()\n",
    "res[\"cluster\"] = kmodel_final.labels_\n",
    "res.groupby(\"cluster\").mean().T"
   ]
  },
  {
   "cell_type": "markdown",
   "id": "85200954-72c5-4772-a9c4-12c1a1524ed7",
   "metadata": {},
   "source": [
    "Several conclusions can be drawn from the table: there are 4 clusters, one of which contains full-length anime and 3 with multi-series anime with different average ratings (high/above average/low). \n",
    "\n",
    "In a cluster with highly rated multi-part anime, it is also noticeable that many people add such anime to their \"favorites\" tab. The 2 clusters differ mainly in their primary source - in the first case, they are original anime, in the second (and more successful) they derive from manga.\n",
    "\n",
    "If we talk about the cluster of low-rated multi-part anime, there a lot of anime with no age restriction.\n",
    "\n",
    "There were a lot of OVA-type anime in the cluster of small-scale series (small stories that complement the main plot of the anime). In addition, it consists of anime of the adult genre, and for the most part the primary source is visual novels."
   ]
  },
  {
   "cell_type": "markdown",
   "id": "1acf86b0-c97f-4873-9099-d988d31cb4f7",
   "metadata": {},
   "source": [
    "Let's try to look at the dendrogram, maybe there will be a better view of the possible division into clusters:"
   ]
  },
  {
   "cell_type": "code",
   "execution_count": 127,
   "id": "dd280d76-1e1b-4782-9325-30b4d19c4fbc",
   "metadata": {},
   "outputs": [],
   "source": [
    "from scipy.cluster.hierarchy import linkage, dendrogram\n",
    "mergings = linkage(scaled_df, method='average')"
   ]
  },
  {
   "cell_type": "code",
   "execution_count": 128,
   "id": "ad7341b7-91cb-4783-911a-a5ebd698bff3",
   "metadata": {},
   "outputs": [
    {
     "data": {
      "image/png": "[encoded data removed]",
      "text/plain": [
       "<Figure size 432x288 with 1 Axes>"
      ]
     },
     "metadata": {
      "needs_background": "light"
     },
     "output_type": "display_data"
    }
   ],
   "source": [
    "dendrogram(mergings,\n",
    "           leaf_rotation=90,\n",
    "           leaf_font_size=3,\n",
    "           )\n",
    "\n",
    "plt.show()"
   ]
  },
  {
   "cell_type": "markdown",
   "id": "51cf33e0-c9f6-4ee4-bcea-46a96671a7d2",
   "metadata": {},
   "source": [
    "The result of the construction was not successful, which is not surprising - there is a lot of data, as well as potential cluster."
   ]
  },
  {
   "cell_type": "markdown",
   "id": "8f2f0e0c-8420-457d-9b96-ccdb82120c10",
   "metadata": {
    "tags": []
   },
   "source": [
    "### Formulate a task for highlighting rules using Subgroup Discovery methods"
   ]
  },
  {
   "cell_type": "markdown",
   "id": "cec75eca-48b3-49e6-a992-3ebb4db15d23",
   "metadata": {},
   "source": [
    "I will use the subgroup discovery method to identify a set of genres that lead to a high score. Thus, it will be possible to guess which genre of anime will have better success among viewers."
   ]
  },
  {
   "cell_type": "code",
   "execution_count": 186,
   "id": "1c2bc860-d254-4c1e-abed-15b1e2192ee1",
   "metadata": {},
   "outputs": [],
   "source": [
    "target = ps.NumericTarget('score')"
   ]
  },
  {
   "cell_type": "code",
   "execution_count": 187,
   "id": "0d34012e-a51e-4a24-b8a3-44b19637fc61",
   "metadata": {},
   "outputs": [
    {
     "data": {
      "text/html": [
       "<div>\n",
       "<style scoped>\n",
       "    .dataframe tbody tr th:only-of-type {\n",
       "        vertical-align: middle;\n",
       "    }\n",
       "\n",
       "    .dataframe tbody tr th {\n",
       "        vertical-align: top;\n",
       "    }\n",
       "\n",
       "    .dataframe thead th {\n",
       "        text-align: right;\n",
       "    }\n",
       "</style>\n",
       "<table border=\"1\" class=\"dataframe\">\n",
       "  <thead>\n",
       "    <tr style=\"text-align: right;\">\n",
       "      <th></th>\n",
       "      <th>score</th>\n",
       "      <th>Action</th>\n",
       "      <th>Adventure</th>\n",
       "      <th>Cars</th>\n",
       "      <th>Comedy</th>\n",
       "      <th>Dementia</th>\n",
       "      <th>Demons</th>\n",
       "      <th>Drama</th>\n",
       "      <th>Ecchi</th>\n",
       "      <th>Fantasy</th>\n",
       "      <th>...</th>\n",
       "      <th>Shounen Ai</th>\n",
       "      <th>Slice of Life</th>\n",
       "      <th>Space</th>\n",
       "      <th>Sports</th>\n",
       "      <th>Super Power</th>\n",
       "      <th>Supernatural</th>\n",
       "      <th>Thriller</th>\n",
       "      <th>Vampire</th>\n",
       "      <th>Yaoi</th>\n",
       "      <th>Yuri</th>\n",
       "    </tr>\n",
       "  </thead>\n",
       "  <tbody>\n",
       "    <tr>\n",
       "      <th>0</th>\n",
       "      <td>7.63</td>\n",
       "      <td>0</td>\n",
       "      <td>0</td>\n",
       "      <td>0</td>\n",
       "      <td>1</td>\n",
       "      <td>0</td>\n",
       "      <td>0</td>\n",
       "      <td>0</td>\n",
       "      <td>0</td>\n",
       "      <td>0</td>\n",
       "      <td>...</td>\n",
       "      <td>0</td>\n",
       "      <td>0</td>\n",
       "      <td>0</td>\n",
       "      <td>0</td>\n",
       "      <td>0</td>\n",
       "      <td>1</td>\n",
       "      <td>0</td>\n",
       "      <td>0</td>\n",
       "      <td>0</td>\n",
       "      <td>0</td>\n",
       "    </tr>\n",
       "    <tr>\n",
       "      <th>1</th>\n",
       "      <td>7.89</td>\n",
       "      <td>0</td>\n",
       "      <td>0</td>\n",
       "      <td>0</td>\n",
       "      <td>1</td>\n",
       "      <td>0</td>\n",
       "      <td>0</td>\n",
       "      <td>0</td>\n",
       "      <td>0</td>\n",
       "      <td>0</td>\n",
       "      <td>...</td>\n",
       "      <td>0</td>\n",
       "      <td>0</td>\n",
       "      <td>0</td>\n",
       "      <td>0</td>\n",
       "      <td>0</td>\n",
       "      <td>0</td>\n",
       "      <td>0</td>\n",
       "      <td>0</td>\n",
       "      <td>0</td>\n",
       "      <td>0</td>\n",
       "    </tr>\n",
       "    <tr>\n",
       "      <th>2</th>\n",
       "      <td>7.55</td>\n",
       "      <td>0</td>\n",
       "      <td>0</td>\n",
       "      <td>0</td>\n",
       "      <td>1</td>\n",
       "      <td>0</td>\n",
       "      <td>0</td>\n",
       "      <td>0</td>\n",
       "      <td>0</td>\n",
       "      <td>0</td>\n",
       "      <td>...</td>\n",
       "      <td>0</td>\n",
       "      <td>0</td>\n",
       "      <td>0</td>\n",
       "      <td>0</td>\n",
       "      <td>0</td>\n",
       "      <td>0</td>\n",
       "      <td>0</td>\n",
       "      <td>0</td>\n",
       "      <td>0</td>\n",
       "      <td>0</td>\n",
       "    </tr>\n",
       "    <tr>\n",
       "      <th>3</th>\n",
       "      <td>8.21</td>\n",
       "      <td>0</td>\n",
       "      <td>0</td>\n",
       "      <td>0</td>\n",
       "      <td>1</td>\n",
       "      <td>0</td>\n",
       "      <td>0</td>\n",
       "      <td>1</td>\n",
       "      <td>0</td>\n",
       "      <td>1</td>\n",
       "      <td>...</td>\n",
       "      <td>0</td>\n",
       "      <td>0</td>\n",
       "      <td>0</td>\n",
       "      <td>0</td>\n",
       "      <td>0</td>\n",
       "      <td>0</td>\n",
       "      <td>0</td>\n",
       "      <td>0</td>\n",
       "      <td>0</td>\n",
       "      <td>0</td>\n",
       "    </tr>\n",
       "    <tr>\n",
       "      <th>4</th>\n",
       "      <td>8.67</td>\n",
       "      <td>0</td>\n",
       "      <td>0</td>\n",
       "      <td>0</td>\n",
       "      <td>1</td>\n",
       "      <td>0</td>\n",
       "      <td>0</td>\n",
       "      <td>1</td>\n",
       "      <td>0</td>\n",
       "      <td>0</td>\n",
       "      <td>...</td>\n",
       "      <td>0</td>\n",
       "      <td>0</td>\n",
       "      <td>0</td>\n",
       "      <td>0</td>\n",
       "      <td>0</td>\n",
       "      <td>0</td>\n",
       "      <td>0</td>\n",
       "      <td>0</td>\n",
       "      <td>0</td>\n",
       "      <td>0</td>\n",
       "    </tr>\n",
       "  </tbody>\n",
       "</table>\n",
       "<p>5 rows × 44 columns</p>\n",
       "</div>"
      ],
      "text/plain": [
       "   score  Action  Adventure  Cars  Comedy  Dementia  Demons  Drama  Ecchi  \\\n",
       "0   7.63       0          0     0       1         0       0      0      0   \n",
       "1   7.89       0          0     0       1         0       0      0      0   \n",
       "2   7.55       0          0     0       1         0       0      0      0   \n",
       "3   8.21       0          0     0       1         0       0      1      0   \n",
       "4   8.67       0          0     0       1         0       0      1      0   \n",
       "\n",
       "   Fantasy  ...  Shounen Ai  Slice of Life  Space  Sports  Super Power  \\\n",
       "0        0  ...           0              0      0       0            0   \n",
       "1        0  ...           0              0      0       0            0   \n",
       "2        0  ...           0              0      0       0            0   \n",
       "3        1  ...           0              0      0       0            0   \n",
       "4        0  ...           0              0      0       0            0   \n",
       "\n",
       "   Supernatural  Thriller  Vampire  Yaoi  Yuri  \n",
       "0             1         0        0     0     0  \n",
       "1             0         0        0     0     0  \n",
       "2             0         0        0     0     0  \n",
       "3             0         0        0     0     0  \n",
       "4             0         0        0     0     0  \n",
       "\n",
       "[5 rows x 44 columns]"
      ]
     },
     "execution_count": 187,
     "metadata": {},
     "output_type": "execute_result"
    }
   ],
   "source": [
    "df_score = df_cleaned[['score']]\n",
    "df_discovery = pd.concat([df_score, genres_dummy], axis=1)\n",
    "df_discovery.head(5)"
   ]
  },
  {
   "cell_type": "code",
   "execution_count": 188,
   "id": "b4609d42-a862-4826-b60b-b991084cb8b2",
   "metadata": {},
   "outputs": [],
   "source": [
    "searchspace = ps.create_selectors(df_discovery, ignore=['score'])"
   ]
  },
  {
   "cell_type": "code",
   "execution_count": 189,
   "id": "7221637f-5f3f-41bf-be12-1f07c3db40bb",
   "metadata": {},
   "outputs": [],
   "source": [
    "task = ps.SubgroupDiscoveryTask (\n",
    "    df_discovery,\n",
    "    target,\n",
    "    searchspace,\n",
    "    result_set_size=5,\n",
    "    depth=3,\n",
    "    qf=ps.StandardQFNumeric(a = 0.3)\n",
    ")"
   ]
  },
  {
   "cell_type": "code",
   "execution_count": 190,
   "id": "2c09cbe0-90b7-4ed7-98c2-d7921a713141",
   "metadata": {},
   "outputs": [],
   "source": [
    "result = ps.BeamSearch().execute(task)"
   ]
  },
  {
   "cell_type": "code",
   "execution_count": 191,
   "id": "98d85a42-a463-4447-9c40-b1490361b31f",
   "metadata": {},
   "outputs": [
    {
     "data": {
      "text/html": [
       "<div>\n",
       "<style scoped>\n",
       "    .dataframe tbody tr th:only-of-type {\n",
       "        vertical-align: middle;\n",
       "    }\n",
       "\n",
       "    .dataframe tbody tr th {\n",
       "        vertical-align: top;\n",
       "    }\n",
       "\n",
       "    .dataframe thead th {\n",
       "        text-align: right;\n",
       "    }\n",
       "</style>\n",
       "<table border=\"1\" class=\"dataframe\">\n",
       "  <thead>\n",
       "    <tr style=\"text-align: right;\">\n",
       "      <th></th>\n",
       "      <th>quality</th>\n",
       "      <th>subgroup</th>\n",
       "      <th>size_sg</th>\n",
       "      <th>size_dataset</th>\n",
       "      <th>mean_sg</th>\n",
       "      <th>mean_dataset</th>\n",
       "      <th>std_sg</th>\n",
       "      <th>std_dataset</th>\n",
       "      <th>median_sg</th>\n",
       "      <th>median_dataset</th>\n",
       "      <th>max_sg</th>\n",
       "      <th>max_dataset</th>\n",
       "      <th>min_sg</th>\n",
       "      <th>min_dataset</th>\n",
       "      <th>mean_lift</th>\n",
       "      <th>median_lift</th>\n",
       "    </tr>\n",
       "  </thead>\n",
       "  <tbody>\n",
       "    <tr>\n",
       "      <th>0</th>\n",
       "      <td>6.886302</td>\n",
       "      <td>Mecha==0 AND Shounen==1 AND Space==0</td>\n",
       "      <td>1477</td>\n",
       "      <td>14124</td>\n",
       "      <td>7.067644</td>\n",
       "      <td>6.296435</td>\n",
       "      <td>0.828613</td>\n",
       "      <td>1.107903</td>\n",
       "      <td>7.15</td>\n",
       "      <td>6.4</td>\n",
       "      <td>9.25</td>\n",
       "      <td>10.0</td>\n",
       "      <td>3.63</td>\n",
       "      <td>1.0</td>\n",
       "      <td>1.122483</td>\n",
       "      <td>1.117188</td>\n",
       "    </tr>\n",
       "    <tr>\n",
       "      <th>1</th>\n",
       "      <td>6.882736</td>\n",
       "      <td>Comedy==1 AND Ecchi==0 AND Shounen==1</td>\n",
       "      <td>853</td>\n",
       "      <td>14124</td>\n",
       "      <td>7.205252</td>\n",
       "      <td>6.296435</td>\n",
       "      <td>0.748095</td>\n",
       "      <td>1.107903</td>\n",
       "      <td>7.28</td>\n",
       "      <td>6.4</td>\n",
       "      <td>9.25</td>\n",
       "      <td>10.0</td>\n",
       "      <td>4.42</td>\n",
       "      <td>1.0</td>\n",
       "      <td>1.144338</td>\n",
       "      <td>1.137500</td>\n",
       "    </tr>\n",
       "    <tr>\n",
       "      <th>2</th>\n",
       "      <td>6.868470</td>\n",
       "      <td>Horror==0 AND Mecha==0 AND Shounen==1</td>\n",
       "      <td>1466</td>\n",
       "      <td>14124</td>\n",
       "      <td>7.067374</td>\n",
       "      <td>6.296435</td>\n",
       "      <td>0.832868</td>\n",
       "      <td>1.107903</td>\n",
       "      <td>7.15</td>\n",
       "      <td>6.4</td>\n",
       "      <td>9.25</td>\n",
       "      <td>10.0</td>\n",
       "      <td>3.63</td>\n",
       "      <td>1.0</td>\n",
       "      <td>1.122440</td>\n",
       "      <td>1.117188</td>\n",
       "    </tr>\n",
       "    <tr>\n",
       "      <th>3</th>\n",
       "      <td>6.857823</td>\n",
       "      <td>Cars==0 AND Mecha==0 AND Shounen==1</td>\n",
       "      <td>1489</td>\n",
       "      <td>14124</td>\n",
       "      <td>7.062592</td>\n",
       "      <td>6.296435</td>\n",
       "      <td>0.836550</td>\n",
       "      <td>1.107903</td>\n",
       "      <td>7.16</td>\n",
       "      <td>6.4</td>\n",
       "      <td>9.25</td>\n",
       "      <td>10.0</td>\n",
       "      <td>3.63</td>\n",
       "      <td>1.0</td>\n",
       "      <td>1.121681</td>\n",
       "      <td>1.118750</td>\n",
       "    </tr>\n",
       "    <tr>\n",
       "      <th>4</th>\n",
       "      <td>6.854607</td>\n",
       "      <td>Comedy==1 AND Horror==0 AND Shounen==1</td>\n",
       "      <td>924</td>\n",
       "      <td>14124</td>\n",
       "      <td>7.180087</td>\n",
       "      <td>6.296435</td>\n",
       "      <td>0.753121</td>\n",
       "      <td>1.107903</td>\n",
       "      <td>7.26</td>\n",
       "      <td>6.4</td>\n",
       "      <td>9.25</td>\n",
       "      <td>10.0</td>\n",
       "      <td>3.69</td>\n",
       "      <td>1.0</td>\n",
       "      <td>1.140342</td>\n",
       "      <td>1.134375</td>\n",
       "    </tr>\n",
       "  </tbody>\n",
       "</table>\n",
       "</div>"
      ],
      "text/plain": [
       "    quality                                subgroup  size_sg  size_dataset  \\\n",
       "0  6.886302    Mecha==0 AND Shounen==1 AND Space==0     1477         14124   \n",
       "1  6.882736   Comedy==1 AND Ecchi==0 AND Shounen==1      853         14124   \n",
       "2  6.868470   Horror==0 AND Mecha==0 AND Shounen==1     1466         14124   \n",
       "3  6.857823     Cars==0 AND Mecha==0 AND Shounen==1     1489         14124   \n",
       "4  6.854607  Comedy==1 AND Horror==0 AND Shounen==1      924         14124   \n",
       "\n",
       "    mean_sg  mean_dataset    std_sg  std_dataset  median_sg  median_dataset  \\\n",
       "0  7.067644      6.296435  0.828613     1.107903       7.15             6.4   \n",
       "1  7.205252      6.296435  0.748095     1.107903       7.28             6.4   \n",
       "2  7.067374      6.296435  0.832868     1.107903       7.15             6.4   \n",
       "3  7.062592      6.296435  0.836550     1.107903       7.16             6.4   \n",
       "4  7.180087      6.296435  0.753121     1.107903       7.26             6.4   \n",
       "\n",
       "   max_sg  max_dataset  min_sg  min_dataset  mean_lift  median_lift  \n",
       "0    9.25         10.0    3.63          1.0   1.122483     1.117188  \n",
       "1    9.25         10.0    4.42          1.0   1.144338     1.137500  \n",
       "2    9.25         10.0    3.63          1.0   1.122440     1.117188  \n",
       "3    9.25         10.0    3.63          1.0   1.121681     1.118750  \n",
       "4    9.25         10.0    3.69          1.0   1.140342     1.134375  "
      ]
     },
     "execution_count": 191,
     "metadata": {},
     "output_type": "execute_result"
    }
   ],
   "source": [
    "result.to_dataframe()"
   ]
  },
  {
   "cell_type": "markdown",
   "id": "b2a095e5-04a7-48be-83a3-eb4978f4a710",
   "metadata": {},
   "source": [
    "What conclusion can be drawn from the results? The most obvious one is Shounen genre is the key to the success of the anime. This is not surprising - the genre is very popular and is aimed at a large target audience, so various combinations of other genres with it bring the anime success. Surprisingly, the Mecha genre (anime about huge controlled robots) is not as in demand as I expected - given that the genre itself is quite popular (although in the last few years the quality of such anime has clearly suffered). \n",
    "If we talk directly about combinations, then anime will most likely be highly appreciated if it doesn't have Mecha and Space / Horror / Cars genre. If you add Comedy to the Shounen and do not include Eroticism / Horror, then the anime will also be warmly received by the public."
   ]
  },
  {
   "cell_type": "markdown",
   "id": "c96ab43c-8e85-4844-9d14-17372609090f",
   "metadata": {},
   "source": [
    "If we summarize the entire classification, then to achieve success by the author of the anime:\n",
    "* it is not necessary to target all age groups:\n",
    "\n",
    "* do not include erotica\n",
    "\n",
    "* make anime in the Shounen genre. \n",
    "\n",
    "No robots!"
   ]
  },
  {
   "cell_type": "code",
   "execution_count": null,
   "id": "1e38e979-16be-4b36-a9e2-26e216c6ffc2",
   "metadata": {},
   "outputs": [],
   "source": []
  }
 ],
 "metadata": {
  "kernelspec": {
   "display_name": "Python 3 (ipykernel)",
   "language": "python",
   "name": "python3"
  },
  "language_info": {
   "codemirror_mode": {
    "name": "ipython",
    "version": 3
   },
   "file_extension": ".py",
   "mimetype": "text/x-python",
   "name": "python",
   "nbconvert_exporter": "python",
   "pygments_lexer": "ipython3",
   "version": "3.10.5"
  }
 },
 "nbformat": 4,
 "nbformat_minor": 5
}
