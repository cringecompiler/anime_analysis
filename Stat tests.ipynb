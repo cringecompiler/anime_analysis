{
 "cells": [
  {
   "cell_type": "markdown",
   "id": "e0434a3f-9be2-428e-85bf-18a1c1ddd48f",
   "metadata": {
    "tags": []
   },
   "source": [
    "### What data did you choose? Specify the source, briefly describe the data"
   ]
  },
  {
   "cell_type": "markdown",
   "id": "6776d2d1-9bd3-4167-bab7-0bf5ef96a2b2",
   "metadata": {},
   "source": [
    "I decided to take data from the MyAnimeList website, a popular platform for evaluating anime and synchronizing progress on watching various titles. People can add to their collection already watched anime or those that are currently watching, rate them, and write reviews. The dataset itself was taken from kaggle (https://www.kaggle.com/datasets/hossamahmedsalah/anime-mal-dataset ) and looks like this:"
   ]
  },
  {
   "cell_type": "code",
   "execution_count": 2,
   "id": "c8773235-b2ec-49db-8136-e6008f759d6c",
   "metadata": {},
   "outputs": [],
   "source": [
    "import pandas as pd\n",
    "import numpy as np\n",
    "from scipy import stats\n",
    "pd.options.mode.chained_assignment = None"
   ]
  },
  {
   "cell_type": "code",
   "execution_count": 3,
   "id": "2133c682-891c-405f-924d-d6f3a2a6cbea",
   "metadata": {},
   "outputs": [
    {
     "name": "stdout",
     "output_type": "stream",
     "text": [
      "<class 'pandas.core.frame.DataFrame'>\n",
      "RangeIndex: 14474 entries, 0 to 14473\n",
      "Data columns (total 31 columns):\n",
      " #   Column          Non-Null Count  Dtype  \n",
      "---  ------          --------------  -----  \n",
      " 0   anime_id        14474 non-null  int64  \n",
      " 1   title           14474 non-null  object \n",
      " 2   title_english   5723 non-null   object \n",
      " 3   title_japanese  14440 non-null  object \n",
      " 4   title_synonyms  8936 non-null   object \n",
      " 5   image_url       14378 non-null  object \n",
      " 6   type            14474 non-null  object \n",
      " 7   source          14474 non-null  object \n",
      " 8   episodes        14474 non-null  int64  \n",
      " 9   status          14474 non-null  object \n",
      " 10  airing          14474 non-null  bool   \n",
      " 11  aired_string    14474 non-null  object \n",
      " 12  aired           14474 non-null  object \n",
      " 13  duration        14474 non-null  object \n",
      " 14  rating          13932 non-null  object \n",
      " 15  score           14474 non-null  float64\n",
      " 16  scored_by       14474 non-null  int64  \n",
      " 17  rank            12901 non-null  float64\n",
      " 18  popularity      14474 non-null  int64  \n",
      " 19  members         14474 non-null  int64  \n",
      " 20  favorites       14474 non-null  int64  \n",
      " 21  background      1057 non-null   object \n",
      " 22  premiered       4096 non-null   object \n",
      " 23  broadcast       4271 non-null   object \n",
      " 24  related         14474 non-null  object \n",
      " 25  producer        8288 non-null   object \n",
      " 26  licensor        3373 non-null   object \n",
      " 27  studio          8544 non-null   object \n",
      " 28  genre           14410 non-null  object \n",
      " 29  opening_theme   14474 non-null  object \n",
      " 30  ending_theme    14474 non-null  object \n",
      "dtypes: bool(1), float64(2), int64(6), object(22)\n",
      "memory usage: 3.3+ MB\n"
     ]
    }
   ],
   "source": [
    "df = pd.read_csv('anime_filtered.csv')\n",
    "df.info()"
   ]
  },
  {
   "cell_type": "markdown",
   "id": "cb73166a-c9fc-4c58-9d55-54e889229a5e",
   "metadata": {},
   "source": [
    "The dataset contains 30 useful attributes, such as information about the title itself (genre, age limit, when it was released, musical accompaniment, etc.), as well as about its indicators on the site itself, formed from viewers (estimate how many people added to the collection / favorites, how many people rated, etc.) "
   ]
  },
  {
   "cell_type": "markdown",
   "id": "2a95587b-028e-4171-8fcb-113755a32589",
   "metadata": {
    "tags": []
   },
   "source": [
    "### Describe what main task within the project you want to solve using this data (check the pattern / predict something / identify subgroups, etc.)"
   ]
  },
  {
   "cell_type": "markdown",
   "id": "70f67044-d1e3-4fdf-8525-90f7c21af4ba",
   "metadata": {},
   "source": [
    "Most likely I will try to evaluate the success of the anime by the set values, specifically its assessment on the site. Perhaps it will be possible to identify subgroups of anime by various metrics of its success and find a certain group of anime that receives the highest ratings from the audience."
   ]
  },
  {
   "cell_type": "markdown",
   "id": "e33df73f-c724-444c-b85e-7dd52c189aa1",
   "metadata": {},
   "source": [
    "To begin with, let's try to look at the most successful anime on the site and first understand which parameters statistically significantly affect the assessment. Let's start with more or less obvious parameters, for example, the age limit:"
   ]
  },
  {
   "cell_type": "code",
   "execution_count": 4,
   "id": "dba8fb14-6033-4919-817e-945684cfeb97",
   "metadata": {},
   "outputs": [],
   "source": [
    "df_nozeros = df[df.score > 0] # let's remove outliers in the form of zero estimates"
   ]
  },
  {
   "cell_type": "code",
   "execution_count": 108,
   "id": "2d52abdc-0b4e-4286-aaef-8da58827d775",
   "metadata": {},
   "outputs": [
    {
     "data": {
      "text/html": [
       "<div>\n",
       "<style scoped>\n",
       "    .dataframe tbody tr th:only-of-type {\n",
       "        vertical-align: middle;\n",
       "    }\n",
       "\n",
       "    .dataframe tbody tr th {\n",
       "        vertical-align: top;\n",
       "    }\n",
       "\n",
       "    .dataframe thead th {\n",
       "        text-align: right;\n",
       "    }\n",
       "</style>\n",
       "<table border=\"1\" class=\"dataframe\">\n",
       "  <thead>\n",
       "    <tr style=\"text-align: right;\">\n",
       "      <th></th>\n",
       "      <th>count</th>\n",
       "      <th>mean_score</th>\n",
       "    </tr>\n",
       "    <tr>\n",
       "      <th>rating</th>\n",
       "      <th></th>\n",
       "      <th></th>\n",
       "    </tr>\n",
       "  </thead>\n",
       "  <tbody>\n",
       "    <tr>\n",
       "      <th>G - All Ages</th>\n",
       "      <td>4519</td>\n",
       "      <td>5.695592</td>\n",
       "    </tr>\n",
       "    <tr>\n",
       "      <th>Rx - Hentai</th>\n",
       "      <td>1212</td>\n",
       "      <td>6.172483</td>\n",
       "    </tr>\n",
       "    <tr>\n",
       "      <th>PG - Children</th>\n",
       "      <td>1268</td>\n",
       "      <td>6.194487</td>\n",
       "    </tr>\n",
       "    <tr>\n",
       "      <th>R+ - Mild Nudity</th>\n",
       "      <td>876</td>\n",
       "      <td>6.401279</td>\n",
       "    </tr>\n",
       "    <tr>\n",
       "      <th>PG-13 - Teens 13 or older</th>\n",
       "      <td>4928</td>\n",
       "      <td>6.790899</td>\n",
       "    </tr>\n",
       "    <tr>\n",
       "      <th>R - 17+ (violence &amp; profanity)</th>\n",
       "      <td>964</td>\n",
       "      <td>6.967085</td>\n",
       "    </tr>\n",
       "  </tbody>\n",
       "</table>\n",
       "</div>"
      ],
      "text/plain": [
       "                                count  mean_score\n",
       "rating                                           \n",
       "G - All Ages                     4519    5.695592\n",
       "Rx - Hentai                      1212    6.172483\n",
       "PG - Children                    1268    6.194487\n",
       "R+ - Mild Nudity                  876    6.401279\n",
       "PG-13 - Teens 13 or older        4928    6.790899\n",
       "R - 17+ (violence & profanity)    964    6.967085"
      ]
     },
     "execution_count": 108,
     "metadata": {},
     "output_type": "execute_result"
    }
   ],
   "source": [
    "df_nozeros.groupby('rating') \\\n",
    "       .agg({'rating':'size', 'score':'mean'}) \\\n",
    "       .rename(columns={'rating':'count','score':'mean_score'}) \\\n",
    "       .sort_values(by='mean_score').tail(10)"
   ]
  },
  {
   "cell_type": "markdown",
   "id": "0a6ca6d1-e74b-4785-a5bd-880b7a963894",
   "metadata": {},
   "source": [
    "The top shows the most highly rated genres (their average score and number). I assume that anime with an age rating of 17+ is rated higher on average than 13+. Let's test this hypothesis:"
   ]
  },
  {
   "cell_type": "code",
   "execution_count": 109,
   "id": "4492e9dd-82f4-4589-be99-d6d6d6b2a04f",
   "metadata": {},
   "outputs": [
    {
     "data": {
      "text/plain": [
       "TtestResult(statistic=5.372697995743711, pvalue=8.054429510800736e-08, df=5890.0)"
      ]
     },
     "execution_count": 109,
     "metadata": {},
     "output_type": "execute_result"
    }
   ],
   "source": [
    "score_17 = df_nozeros.score[(df_nozeros.rating==\"R - 17+ (violence & profanity)\")]\n",
    "score_13 = df_nozeros.score[(df_nozeros.rating==\"PG-13 - Teens 13 or older\")]\n",
    "stats.ttest_ind(score_17, score_13, nan_policy = \"omit\")"
   ]
  },
  {
   "cell_type": "code",
   "execution_count": 110,
   "id": "536e13b4-54b4-4f1e-a6a2-5555510f7d3c",
   "metadata": {},
   "outputs": [
    {
     "data": {
      "text/plain": [
       "0.17618611743546886"
      ]
     },
     "execution_count": 110,
     "metadata": {},
     "output_type": "execute_result"
    }
   ],
   "source": [
    "score_17.mean() - score_13.mean()"
   ]
  },
  {
   "cell_type": "markdown",
   "id": "49a1e10f-254e-49ea-8db8-f98370cade0c",
   "metadata": {},
   "source": [
    "Thus, the null hypothesis about the equality of the average score for these two age restrictions is rejected - their difference is statistically significant (at the level of 0.01). Now let's look at the average score depending on the original source of the anime:"
   ]
  },
  {
   "cell_type": "code",
   "execution_count": 111,
   "id": "a84a617a-5628-4038-8ae6-57b4ddd16b65",
   "metadata": {},
   "outputs": [
    {
     "data": {
      "text/html": [
       "<div>\n",
       "<style scoped>\n",
       "    .dataframe tbody tr th:only-of-type {\n",
       "        vertical-align: middle;\n",
       "    }\n",
       "\n",
       "    .dataframe tbody tr th {\n",
       "        vertical-align: top;\n",
       "    }\n",
       "\n",
       "    .dataframe thead th {\n",
       "        text-align: right;\n",
       "    }\n",
       "</style>\n",
       "<table border=\"1\" class=\"dataframe\">\n",
       "  <thead>\n",
       "    <tr style=\"text-align: right;\">\n",
       "      <th></th>\n",
       "      <th>count</th>\n",
       "      <th>mean_score</th>\n",
       "    </tr>\n",
       "    <tr>\n",
       "      <th>source</th>\n",
       "      <th></th>\n",
       "      <th></th>\n",
       "    </tr>\n",
       "  </thead>\n",
       "  <tbody>\n",
       "    <tr>\n",
       "      <th>Unknown</th>\n",
       "      <td>4197</td>\n",
       "      <td>5.996152</td>\n",
       "    </tr>\n",
       "    <tr>\n",
       "      <th>Book</th>\n",
       "      <td>93</td>\n",
       "      <td>6.290968</td>\n",
       "    </tr>\n",
       "    <tr>\n",
       "      <th>Game</th>\n",
       "      <td>572</td>\n",
       "      <td>6.409755</td>\n",
       "    </tr>\n",
       "    <tr>\n",
       "      <th>Visual novel</th>\n",
       "      <td>877</td>\n",
       "      <td>6.531733</td>\n",
       "    </tr>\n",
       "    <tr>\n",
       "      <th>Card game</th>\n",
       "      <td>54</td>\n",
       "      <td>6.612963</td>\n",
       "    </tr>\n",
       "    <tr>\n",
       "      <th>Web manga</th>\n",
       "      <td>136</td>\n",
       "      <td>6.627647</td>\n",
       "    </tr>\n",
       "    <tr>\n",
       "      <th>4-koma manga</th>\n",
       "      <td>214</td>\n",
       "      <td>6.797757</td>\n",
       "    </tr>\n",
       "    <tr>\n",
       "      <th>Novel</th>\n",
       "      <td>337</td>\n",
       "      <td>6.842967</td>\n",
       "    </tr>\n",
       "    <tr>\n",
       "      <th>Manga</th>\n",
       "      <td>3025</td>\n",
       "      <td>6.975474</td>\n",
       "    </tr>\n",
       "    <tr>\n",
       "      <th>Light novel</th>\n",
       "      <td>531</td>\n",
       "      <td>7.210207</td>\n",
       "    </tr>\n",
       "  </tbody>\n",
       "</table>\n",
       "</div>"
      ],
      "text/plain": [
       "              count  mean_score\n",
       "source                         \n",
       "Unknown        4197    5.996152\n",
       "Book             93    6.290968\n",
       "Game            572    6.409755\n",
       "Visual novel    877    6.531733\n",
       "Card game        54    6.612963\n",
       "Web manga       136    6.627647\n",
       "4-koma manga    214    6.797757\n",
       "Novel           337    6.842967\n",
       "Manga          3025    6.975474\n",
       "Light novel     531    7.210207"
      ]
     },
     "execution_count": 111,
     "metadata": {},
     "output_type": "execute_result"
    }
   ],
   "source": [
    "df_nozeros.groupby('source') \\\n",
    "       .agg({'source':'size', 'score':'mean'}) \\\n",
    "       .rename(columns={'source':'count','score':'mean_score'}) \\\n",
    "       .sort_values(by='mean_score').tail(10)"
   ]
  },
  {
   "cell_type": "markdown",
   "id": "6dc6db48-a550-44c2-bc54-988cd91670f8",
   "metadata": {},
   "source": [
    "Let's try to compare the average rating of anime in a similar way, the primary source of which was Light novel and Manga:"
   ]
  },
  {
   "cell_type": "code",
   "execution_count": 112,
   "id": "de095ad1-45ce-4228-b2d2-29e0e7fc009a",
   "metadata": {},
   "outputs": [
    {
     "data": {
      "text/plain": [
       "TtestResult(statistic=6.081857011970487, pvalue=1.313844727363384e-09, df=3554.0)"
      ]
     },
     "execution_count": 112,
     "metadata": {},
     "output_type": "execute_result"
    }
   ],
   "source": [
    "score_lnovel = df_nozeros.score[(df_nozeros.source==\"Light novel\")]\n",
    "score_manga = df_nozeros.score[(df_nozeros.source==\"Manga\")]\n",
    "stats.ttest_ind(score_lnovel, score_manga, nan_policy = \"omit\")"
   ]
  },
  {
   "cell_type": "code",
   "execution_count": 113,
   "id": "c5a9af78-2fdd-40ac-aea4-c84f1c13ffee",
   "metadata": {},
   "outputs": [
    {
     "data": {
      "text/plain": [
       "0.23473277614356203"
      ]
     },
     "execution_count": 113,
     "metadata": {},
     "output_type": "execute_result"
    }
   ],
   "source": [
    "score_lnovel.mean() - score_manga.mean()"
   ]
  },
  {
   "cell_type": "markdown",
   "id": "d5282b4e-9177-4540-9db9-1f47753d9a38",
   "metadata": {},
   "source": [
    "In this case, the null hypothesis of equality is also rejected: there is statistical significance in the difference in the average score between the primary sources."
   ]
  },
  {
   "cell_type": "markdown",
   "id": "afe69fc7-5b1d-45b5-909f-6e6fc67435ad",
   "metadata": {
    "tags": []
   },
   "source": [
    "### Describe the main conclusions after testing the hypotheses"
   ]
  },
  {
   "cell_type": "markdown",
   "id": "83241fc6-16ef-4d64-99ad-95af446c636c",
   "metadata": {},
   "source": [
    "After testing the hypotheses about the equality of averages, it can be concluded that anime with an age limit of 17+ have a score higher than 13+ by about 0.18. In addition, the original source also has a statistically significant effect on the score: those anime that are based on manga, on average 0.23 are rated worse than those based on light novels. These differences are quite high and make sense (about 2% of the scale), so in the future, most likely, when building a regression model, these regressors will have a statistically significant weight."
   ]
  },
  {
   "cell_type": "markdown",
   "id": "b8acccee-66e4-4aad-bad8-e5fdbffd69f0",
   "metadata": {
    "tags": []
   },
   "source": [
    "### Choose one of the considered research questions. Calculate the required sample size if you were planning to answer this question using an experiment. Explain how you estimated the necessary parameters (effect size, spread, etc.)"
   ]
  },
  {
   "cell_type": "markdown",
   "id": "56e115e8-f7c6-48de-b334-1239744a5fdd",
   "metadata": {},
   "source": [
    "In my case, it would be strange to conduct an AB test, since the anime release is very graguate throughout the season - moreover, it takes even more time for users to start evaluating it. In any case, we will calculate the sample size for the experiment of checking the averages, depending on the original source:"
   ]
  },
  {
   "cell_type": "code",
   "execution_count": 114,
   "id": "656aaa01-5b3f-4cd6-bb8f-ea1f7863d100",
   "metadata": {},
   "outputs": [
    {
     "data": {
      "text/plain": [
       "289.80430852489474"
      ]
     },
     "execution_count": 114,
     "metadata": {},
     "output_type": "execute_result"
    }
   ],
   "source": [
    "((0.841621 + 2.326348)*np.sqrt(np.std(score_lnovel)**2 + np.std(score_manga)**2)/ 0.2)**2"
   ]
  },
  {
   "cell_type": "markdown",
   "id": "912d195b-4bc2-4426-bfc1-1c6549a6085e",
   "metadata": {},
   "source": [
    "The significance level is 0.01, the power is 0.8. The corresponding Z values were substituted from the table. We will estimate the standard deviations on the existing samples, and the effect size will be 0.2 - about the same as it was detected. In total, the sample sizes should be 290 in order to find an effect of 0.2 at a given level of significance and power."
   ]
  },
  {
   "cell_type": "code",
   "execution_count": null,
   "id": "9f4a35f7-a31a-46a6-8b68-d0209160f09a",
   "metadata": {},
   "outputs": [],
   "source": []
  }
 ],
 "metadata": {
  "kernelspec": {
   "display_name": "Python 3 (ipykernel)",
   "language": "python",
   "name": "python3"
  },
  "language_info": {
   "codemirror_mode": {
    "name": "ipython",
    "version": 3
   },
   "file_extension": ".py",
   "mimetype": "text/x-python",
   "name": "python",
   "nbconvert_exporter": "python",
   "pygments_lexer": "ipython3",
   "version": "3.10.5"
  }
 },
 "nbformat": 4,
 "nbformat_minor": 5
}
